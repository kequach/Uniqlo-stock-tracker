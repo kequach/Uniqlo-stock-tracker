{
 "cells": [
  {
   "cell_type": "code",
   "execution_count": null,
   "id": "bde64eab",
   "metadata": {},
   "outputs": [],
   "source": [
    "from selenium import webdriver\n",
    "from selenium.webdriver.common.by import By\n",
    "from selenium.webdriver.chrome.options import Options\n",
    "from selenium.webdriver.support.ui import WebDriverWait\n",
    "from selenium.webdriver.support import expected_conditions as EC\n",
    "from selenium.common.exceptions import StaleElementReferenceException\n",
    "import time"
   ]
  },
  {
   "cell_type": "code",
   "execution_count": null,
   "id": "3dcb5add",
   "metadata": {},
   "outputs": [],
   "source": [
    "# Set up headless Chrome\n",
    "options = Options()\n",
    "options.add_argument(\"--headless=new\")  # Use \"--headless\" for older Chrome\n",
    "options.add_argument(\"--disable-gpu\")\n",
    "options.add_argument(\"--no-sandbox\")"
   ]
  },
  {
   "cell_type": "code",
   "execution_count": null,
   "id": "4192cadd",
   "metadata": {},
   "outputs": [],
   "source": [
    "url = \"https://www.uniqlo.com/de/de/products/E478984-000/00?colorDisplayCode=00&sizeDisplayCode=004\""
   ]
  },
  {
   "cell_type": "code",
   "execution_count": null,
   "id": "dc5237c9",
   "metadata": {},
   "outputs": [],
   "source": [
    "driver = webdriver.Chrome(options=options)\n",
    "\n",
    "\n",
    "# Retryable size extraction\n",
    "def get_size_info_with_retry(driver, index, max_retries=3):\n",
    "    for attempt in range(max_retries):\n",
    "        try:\n",
    "            # Refetch fresh wrapper every time\n",
    "            wrappers = driver.find_elements(By.CSS_SELECTOR, 'div.size-chip-wrapper')\n",
    "            wrapper = wrappers[index]\n",
    "\n",
    "            button = wrapper.find_element(By.CSS_SELECTOR, 'button[data-testid=\"ITOChip\"]')\n",
    "            label_div = button.find_element(By.CSS_SELECTOR, '[data-testid=\"ITOTypography\"]')\n",
    "            size_label = driver.execute_script(\"return arguments[0].textContent;\", label_div).strip()\n",
    "\n",
    "            # Availability\n",
    "            has_strike = len(wrapper.find_elements(By.CSS_SELECTOR, 'div.strike')) > 0\n",
    "            available = not has_strike\n",
    "\n",
    "            return size_label, available\n",
    "\n",
    "        except StaleElementReferenceException as e:\n",
    "            print(f\"Retry {attempt + 1} due to stale element\")\n",
    "            time.sleep(0.5)\n",
    "\n",
    "    return \"N/A\", False\n",
    "\n",
    "try:\n",
    "    driver.get(url)\n",
    "\n",
    "    # Wait for size elements to load\n",
    "    WebDriverWait(driver, 10).until(\n",
    "        EC.presence_of_element_located((By.CSS_SELECTOR, 'div.size-chip-wrapper'))\n",
    "    )\n",
    "\n",
    "    # Get the number of size wrappers (do this only once!)\n",
    "    total = len(driver.find_elements(By.CSS_SELECTOR, 'div.size-chip-wrapper'))\n",
    "\n",
    "    for i in range(total):\n",
    "        size_label, available = get_size_info_with_retry(driver, i)\n",
    "        print(f\"Size: {size_label} | Available: {available}\")\n",
    "\n",
    "\n",
    "finally:\n",
    "    driver.quit()\n",
    "    print(\"done\")"
   ]
  }
 ],
 "metadata": {
  "kernelspec": {
   "display_name": "Python 3 (ipykernel)",
   "language": "python",
   "name": "python3"
  },
  "language_info": {
   "codemirror_mode": {
    "name": "ipython",
    "version": 3
   },
   "file_extension": ".py",
   "mimetype": "text/x-python",
   "name": "python",
   "nbconvert_exporter": "python",
   "pygments_lexer": "ipython3",
   "version": "3.11.3"
  }
 },
 "nbformat": 4,
 "nbformat_minor": 5
}
